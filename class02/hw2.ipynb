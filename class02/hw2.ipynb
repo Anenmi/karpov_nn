{
  "cells": [
    {
      "cell_type": "code",
      "execution_count": null,
      "metadata": {
        "id": "ZplZNZXiraI0"
      },
      "outputs": [],
      "source": [
        "import torch\n",
        "import torch.nn as nn\n",
        "\n",
        "def create_model():\n",
        "    model = nn.Sequential(\n",
        "        nn.Linear(100, 10),\n",
        "        nn.ReLU(),\n",
        "        nn.Linear(10, 1)\n",
        "        )\n",
        "    return model"
      ]
    },
    {
      "cell_type": "code",
      "execution_count": null,
      "metadata": {
        "id": "g29S7VHHsKc9"
      },
      "outputs": [],
      "source": [
        "import torch\n",
        "from torch.utils.data import DataLoader, TensorDataset\n",
        "from torch.optim import Optimizer\n",
        "from torch import nn\n",
        "\n",
        "def train(model: nn.Module, data_loader: DataLoader, optimizer: Optimizer, loss_fn):\n",
        "    model.train()\n",
        "    history = []\n",
        "    for x_batch, y_batch in data_loader:\n",
        "        optimizer.zero_grad()\n",
        "        x_batch = x_batch.view(x_batch.shape[0], -1)\n",
        "        y_pred = model(x_batch)\n",
        "        loss = loss_fn(y_pred, y_batch)\n",
        "        #print(round(loss.item(),5))\n",
        "        history.append(loss.item())\n",
        "        loss.backward()\n",
        "        optimizer.step()\n",
        "    return  sum(history) / len(history)"
      ]
    },
    {
      "cell_type": "code",
      "execution_count": null,
      "metadata": {
        "id": "YD9dBUNjtv5K"
      },
      "outputs": [],
      "source": [
        "n_features = 100\n",
        "n_objects = 300\n",
        "\n",
        "w_true = torch.randn(n_features)\n",
        "X = (torch.rand(n_objects, n_features) - 0.5) * 5\n",
        "Y = X @ w_true + torch.randn(n_objects) / 2\n",
        "dataset = TensorDataset(X, Y)\n",
        "train_loader = DataLoader(dataset, batch_size=4, drop_last=True)"
      ]
    },
    {
      "cell_type": "code",
      "execution_count": null,
      "metadata": {
        "colab": {
          "base_uri": "https://localhost:8080/"
        },
        "id": "p3p55gVvuaUo",
        "outputId": "b4990dd1-0138-450f-bc6e-48651da53863"
      },
      "outputs": [
        {
          "name": "stderr",
          "output_type": "stream",
          "text": [
            "/usr/local/lib/python3.7/dist-packages/torch/nn/modules/loss.py:529: UserWarning: Using a target size (torch.Size([4])) that is different to the input size (torch.Size([4, 1])). This will likely lead to incorrect results due to broadcasting. Please ensure they have the same size.\n",
            "  return F.mse_loss(input, target, reduction=self.reduction)\n"
          ]
        },
        {
          "data": {
            "text/plain": [
              "157.1057379404704"
            ]
          },
          "execution_count": 32,
          "metadata": {},
          "output_type": "execute_result"
        }
      ],
      "source": [
        "model=create_model()\n",
        "optimizer=torch.optim.Adam(model.parameters(), lr=1e-2)\n",
        "\n",
        "train(model=model, data_loader=train_loader, optimizer=optimizer, loss_fn=nn.MSELoss())"
      ]
    },
    {
      "cell_type": "code",
      "execution_count": null,
      "metadata": {
        "id": "F-fiUBcKvHg-"
      },
      "outputs": [],
      "source": [
        "import torch\n",
        "from torch.utils.data import DataLoader, TensorDataset\n",
        "from torch.optim import Optimizer\n",
        "from torch import nn\n",
        "\n",
        "def evaluate(model: nn.Module, data_loader: DataLoader, loss_fn):\n",
        "    history=[]\n",
        "    model.eval()\n",
        "    for x_batch, y_batch in data_loader:\n",
        "        x_batch = x_batch.view(x_batch.shape[0], -1)\n",
        "        with torch.set_grad_enabled(False):\n",
        "            y_pred = model(x_batch)\n",
        "        loss = loss_fn(y_pred, y_batch)\n",
        "        #print(round(loss.item(),5))\n",
        "        history.append(loss.item())\n",
        "    return  sum(history) / len(history)"
      ]
    },
    {
      "cell_type": "code",
      "execution_count": null,
      "metadata": {
        "colab": {
          "base_uri": "https://localhost:8080/"
        },
        "id": "2N7NiG79zdL5",
        "outputId": "0d8e9d8c-8ac5-47ca-a3dd-0ce04c54e763"
      },
      "outputs": [
        {
          "name": "stderr",
          "output_type": "stream",
          "text": [
            "/usr/local/lib/python3.7/dist-packages/torch/nn/modules/loss.py:529: UserWarning: Using a target size (torch.Size([4])) that is different to the input size (torch.Size([4, 1])). This will likely lead to incorrect results due to broadcasting. Please ensure they have the same size.\n",
            "  return F.mse_loss(input, target, reduction=self.reduction)\n"
          ]
        },
        {
          "data": {
            "text/plain": [
              "149.00860372543335"
            ]
          },
          "execution_count": 39,
          "metadata": {},
          "output_type": "execute_result"
        }
      ],
      "source": [
        "evaluate(model=model, data_loader=train_loader, loss_fn=nn.MSELoss())"
      ]
    },
    {
      "cell_type": "code",
      "execution_count": null,
      "metadata": {
        "id": "ccvJ2IgPzkhl"
      },
      "outputs": [],
      "source": []
    }
  ],
  "metadata": {
    "colab": {
      "collapsed_sections": [],
      "name": "hw2",
      "provenance": []
    },
    "kernelspec": {
      "display_name": "Python 3",
      "name": "python3"
    },
    "language_info": {
      "name": "python"
    }
  },
  "nbformat": 4,
  "nbformat_minor": 0
}
