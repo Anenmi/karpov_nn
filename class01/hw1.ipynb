{
  "cells": [
    {
      "cell_type": "code",
      "execution_count": null,
      "metadata": {
        "id": "9GYjStRaax8T"
      },
      "outputs": [],
      "source": [
        "import torch\n",
        "\n",
        "\n",
        "def function01(tensor: torch.Tensor, count_over: str):\n",
        "    if count_over == \"columns\":\n",
        "        return torch.mean(tensor, 0)\n",
        "    if count_over == \"rows\":\n",
        "        return torch.mean(tensor, 1)"
      ]
    },
    {
      "cell_type": "code",
      "execution_count": 33,
      "metadata": {
        "id": "8IRLdOJmazPm"
      },
      "outputs": [],
      "source": [
        "import torch\n",
        "from torch import float32\n",
        "\n",
        "\n",
        "def function02(tensor: torch.Tensor):\n",
        "    weights = torch.randn(tensor.shape[1]).to(float32)\n",
        "    weights.requires_grad = True\n",
        "    return weights"
      ]
    },
    {
      "cell_type": "code",
      "execution_count": 34,
      "metadata": {
        "id": "N4jnhJE4a5kk"
      },
      "outputs": [],
      "source": [
        "n_features = 2\n",
        "n_objects = 300\n",
        "\n",
        "w_true = torch.randn(n_features)\n",
        "X = (torch.rand(n_objects, n_features) - 0.5) * 5\n",
        "Y = X @ w_true + torch.randn(n_objects) / 2"
      ]
    },
    {
      "cell_type": "code",
      "execution_count": 37,
      "metadata": {
        "id": "pPRzL-xeb2Ip"
      },
      "outputs": [],
      "source": [
        "def function03(x: torch.Tensor, y: torch.Tensor):\n",
        "    learning_rate = 1e-2\n",
        "    weights = function02(x)\n",
        "    iter=0\n",
        "    loss=2\n",
        "    while loss > 1:\n",
        "        y_pred = x @ weights.t()\n",
        "        loss = torch.mean((y_pred - y)**2)\n",
        "        print('iter =', iter, ', loss =', loss.item())\n",
        "        loss.backward()\n",
        "        with torch.no_grad():\n",
        "            weights -= weights.grad * learning_rate\n",
        "            weights.grad.zero_()\n",
        "        iter+=1\n",
        "    return weights"
      ]
    },
    {
      "cell_type": "code",
      "execution_count": 38,
      "metadata": {
        "colab": {
          "base_uri": "https://localhost:8080/"
        },
        "id": "PUDnnqaKc2KC",
        "outputId": "cbb94f1b-470e-4ae8-bc01-e2651ff65f3a"
      },
      "outputs": [
        {
          "name": "stdout",
          "output_type": "stream",
          "text": [
            "iter = 0 , loss = 1.3795770406723022\n",
            "iter = 1 , loss = 1.2808351516723633\n",
            "iter = 2 , loss = 1.190712332725525\n",
            "iter = 3 , loss = 1.108455777168274\n",
            "iter = 4 , loss = 1.03337824344635\n",
            "iter = 5 , loss = 0.964851975440979\n"
          ]
        },
        {
          "data": {
            "text/plain": [
              "tensor([ 0.3687, -0.5003], requires_grad=True)"
            ]
          },
          "execution_count": 38,
          "metadata": {},
          "output_type": "execute_result"
        }
      ],
      "source": [
        "function03(X,Y)"
      ]
    },
    {
      "cell_type": "code",
      "execution_count": null,
      "metadata": {
        "colab": {
          "base_uri": "https://localhost:8080/",
          "height": 428
        },
        "id": "hrEEO_F8c5GP",
        "outputId": "cca647f5-2b41-4e62-eab0-8a9d7f4c90ad"
      },
      "outputs": [
        {
          "data": {
            "image/png": "[encoded data removed]",
            "text/plain": [
              "<Figure size 720x504 with 1 Axes>"
            ]
          },
          "metadata": {
            "needs_background": "light"
          },
          "output_type": "display_data"
        }
      ],
      "source": [
        "import matplotlib.pyplot as plt\n",
        "import numpy as np\n",
        "plt.figure(figsize=(10, 7))\n",
        "\n",
        "X_true = np.linspace(-5, 5, 2)\n",
        "y_true = X_true * w_true[0].item()\n",
        "#y_pred = X_true * function03(X,Y)[0].item()\n",
        "\n",
        "plt.plot(X_true, y_true, label='real', c='g')\n",
        "plt.scatter(X[:,0], Y, label='train')\n",
        "#plt.plot(X_true, y_pred, label='predicted', c='r')\n",
        "plt.plot()\n",
        "plt.grid(alpha=0.2)\n",
        "plt.legend()\n",
        "plt.show()"
      ]
    },
    {
      "cell_type": "code",
      "execution_count": null,
      "metadata": {
        "id": "PMOSecu2hzaN"
      },
      "outputs": [],
      "source": [
        "import torch\n",
        "from torch import nn\n",
        "\n",
        "def create_linear():\n",
        "    return nn.Linear(in_features=10, out_features=100, bias=False, device=None, dtype=None)"
      ]
    },
    {
      "cell_type": "code",
      "execution_count": null,
      "metadata": {
        "id": "7pPJGwdmoouc"
      },
      "outputs": [],
      "source": [
        "import torch\n",
        "from torch import nn\n",
        "\n",
        "def count_parameters(layer: nn.Module):\n",
        "    return sum(p.numel() for p in layer.parameters())"
      ]
    },
    {
      "cell_type": "code",
      "execution_count": null,
      "metadata": {
        "colab": {
          "base_uri": "https://localhost:8080/"
        },
        "id": "N4ErcjNQNn-J",
        "outputId": "e972d4f6-20dc-4cb2-f667-ec6a503324b4"
      },
      "outputs": [
        {
          "data": {
            "text/plain": [
              "1000"
            ]
          },
          "execution_count": 5,
          "metadata": {},
          "output_type": "execute_result"
        }
      ],
      "source": [
        "count_parameters(create_linear())"
      ]
    },
    {
      "cell_type": "code",
      "execution_count": null,
      "metadata": {
        "id": "irohipEPNqRU"
      },
      "outputs": [],
      "source": [
        "import torch\n",
        "from torch import nn\n",
        "\n",
        "def count_parameters(layer: nn.Module):\n",
        "    return sum(p.numel() for p in layer.parameters() if p.requires_grad)"
      ]
    },
    {
      "cell_type": "code",
      "execution_count": null,
      "metadata": {
        "colab": {
          "base_uri": "https://localhost:8080/"
        },
        "id": "ijQ590E5Or_K",
        "outputId": "b68daa44-6c02-4484-ef1b-1f70f0a3be07"
      },
      "outputs": [
        {
          "data": {
            "text/plain": [
              "1000"
            ]
          },
          "execution_count": 9,
          "metadata": {},
          "output_type": "execute_result"
        }
      ],
      "source": [
        "count_parameters(create_linear())"
      ]
    },
    {
      "cell_type": "code",
      "execution_count": 1,
      "metadata": {
        "id": "DK-ZYsuTVzbA"
      },
      "outputs": [],
      "source": [
        "import torch\n",
        "from torch import nn\n",
        "\n",
        "n_features = 2\n",
        "n_objects = 300\n",
        "\n",
        "w_true = torch.randn(n_features)\n",
        "X = (torch.rand(n_objects, n_features) - 0.5) * 5\n",
        "Y = X @ w_true + torch.randn(n_objects) / 2"
      ]
    },
    {
      "cell_type": "code",
      "execution_count": 5,
      "metadata": {
        "id": "eOGRmkKnOtIb"
      },
      "outputs": [],
      "source": [
        "def function04(x: torch.Tensor, y: torch.Tensor):\n",
        "    model = torch.nn.Linear(x.size()[1], 1, bias=False)\n",
        "    learning_rate = 1e-2\n",
        "    for i in range(10000):\n",
        "        y_pred = model(x).flatten()\n",
        "        loss = torch.mean((y_pred - y)**2)\n",
        "        if i%10 == 0:\n",
        "            print('iter =', i, ', loss =', loss.item())\n",
        "        loss.backward()\n",
        "        with torch.no_grad():\n",
        "            model.weight -= model.weight.grad * learning_rate\n",
        "        model.weight.grad.zero_()\n",
        "        if loss < 0.3:\n",
        "            break\n",
        "    return model.weight"
      ]
    },
    {
      "cell_type": "code",
      "execution_count": 6,
      "metadata": {
        "colab": {
          "base_uri": "https://localhost:8080/",
          "height": 479
        },
        "id": "qKR540Ec95Ah",
        "outputId": "200b2901-6521-4d57-b362-266f01b3c420"
      },
      "outputs": [
        {
          "name": "stdout",
          "output_type": "stream",
          "text": [
            "iter = 0 , loss = 2.5970826148986816\n",
            "iter = 10 , loss = 1.271510362625122\n",
            "iter = 20 , loss = 0.6982848048210144\n",
            "iter = 30 , loss = 0.45031556487083435\n",
            "iter = 40 , loss = 0.343008816242218\n"
          ]
        },
        {
          "data": {
            "image/png": "[encoded data removed]",
            "text/plain": [
              "<Figure size 720x504 with 1 Axes>"
            ]
          },
          "metadata": {
            "needs_background": "light"
          },
          "output_type": "display_data"
        }
      ],
      "source": [
        "import matplotlib.pyplot as plt\n",
        "import numpy as np\n",
        "plt.figure(figsize=(10, 7))\n",
        "\n",
        "X_true = np.linspace(-5, 5, 2)\n",
        "y_true = X_true * w_true[0].item()\n",
        "y_pred = X_true * function04(X,Y)[0][0].item()\n",
        "\n",
        "plt.plot(X_true, y_true, label='real', c='g')\n",
        "plt.scatter(X[:,0], Y, label='train')\n",
        "plt.plot(X_true, y_pred, label='predicted', c='r')\n",
        "plt.plot()\n",
        "plt.grid(alpha=0.2)\n",
        "plt.legend()\n",
        "plt.show()"
      ]
    },
    {
      "cell_type": "code",
      "execution_count": 8,
      "metadata": {
        "id": "Pjfk45mtFxcB"
      },
      "outputs": [],
      "source": [
        "def function04(x: torch.Tensor, y: torch.Tensor):\n",
        "    model = torch.nn.Linear(x.size()[1], 1, bias=False)\n",
        "    learning_rate = 1e-2\n",
        "    for i in range(10000):\n",
        "        y_pred = model(x).flatten()\n",
        "        loss = torch.mean((y_pred - y)**2)\n",
        "        loss.backward()\n",
        "        with torch.no_grad():\n",
        "            model.weight -= model.weight.grad * learning_rate\n",
        "        model.weight.grad.zero_()\n",
        "        if loss < 0.3:\n",
        "            break\n",
        "    return model"
      ]
    },
    {
      "cell_type": "code",
      "execution_count": 9,
      "metadata": {
        "colab": {
          "base_uri": "https://localhost:8080/"
        },
        "id": "GmctMRKmVxQb",
        "outputId": "e24f0c12-1560-41bf-9a9f-c5ae3481c216"
      },
      "outputs": [
        {
          "data": {
            "text/plain": [
              "Linear(in_features=2, out_features=1, bias=False)"
            ]
          },
          "execution_count": 9,
          "metadata": {},
          "output_type": "execute_result"
        }
      ],
      "source": [
        "function04(X,Y)"
      ]
    },
    {
      "cell_type": "code",
      "execution_count": null,
      "metadata": {
        "id": "weLJyuPiTX0z"
      },
      "outputs": [],
      "source": []
    }
  ],
  "metadata": {
    "colab": {
      "collapsed_sections": [],
      "name": "karpov_nn_hw1.ipynb",
      "provenance": []
    },
    "interpreter": {
      "hash": "8c434f5c3407a1f0560767d14fec2b400e4013a14f0c41196f1dd95134a3e25e"
    },
    "kernelspec": {
      "display_name": "Python 3.9.7 ('base')",
      "language": "python",
      "name": "python3"
    },
    "language_info": {
      "codemirror_mode": {
        "name": "ipython",
        "version": 3
      },
      "file_extension": ".py",
      "mimetype": "text/x-python",
      "name": "python",
      "nbconvert_exporter": "python",
      "pygments_lexer": "ipython3",
      "version": "3.9.7"
    }
  },
  "nbformat": 4,
  "nbformat_minor": 0
}
